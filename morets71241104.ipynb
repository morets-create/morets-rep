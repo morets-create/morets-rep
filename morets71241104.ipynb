{
  "nbformat": 4,
  "nbformat_minor": 0,
  "metadata": {
    "colab": {
      "provenance": []
    },
    "kernelspec": {
      "name": "python3",
      "display_name": "Python 3"
    },
    "language_info": {
      "name": "python"
    }
  },
  "cells": [
    {
      "cell_type": "code",
      "execution_count": 2,
      "metadata": {
        "colab": {
          "base_uri": "https://localhost:8080/"
        },
        "id": "ap4AxPS7RVOQ",
        "outputId": "0caddce2-e649-440d-cc42-61f61d3b2f8a"
      },
      "outputs": [
        {
          "output_type": "stream",
          "name": "stdout",
          "text": [
            "Keuntungan pertama (dalam Rp): 875000\n",
            "Keuntungan pertama (dalam %): 5.384615384615385\n",
            "Keuntungan kedua (dalam Rp): 2075000\n",
            "Keuntungan kedua (dalam %): 7.822808671065033\n"
          ]
        }
      ],
      "source": [
        "harga_beli_per_gram = 650000\n",
        "gram_pertama = 25\n",
        "biaya_awal = harga_beli_per_gram * gram_pertama\n",
        "\n",
        "harga_jual_per_gram = 685000\n",
        "keuntungan_nominal_pertama = (harga_jual_per_gram - harga_beli_per_gram) * gram_pertama\n",
        "keuntungan_persen_pertama = (keuntungan_nominal_pertama / biaya_awal) * 100\n",
        "\n",
        "gram_kedua = 15\n",
        "biaya_pertama_dan_kedua = biaya_awal + (harga_jual_per_gram * gram_kedua)\n",
        "\n",
        "harga_jual_per_gram_terakhir = 715000\n",
        "nilai_total_emas_terakhir = harga_jual_per_gram_terakhir * (gram_pertama + gram_kedua)\n",
        "keuntungan_nominal_terakhir = nilai_total_emas_terakhir - biaya_pertama_dan_kedua\n",
        "keuntungan_persen_terakhir = (keuntungan_nominal_terakhir / biaya_pertama_dan_kedua) * 100\n",
        "\n",
        "print(\"Keuntungan pertama (dalam Rp):\", keuntungan_nominal_pertama)\n",
        "print(\"Keuntungan pertama (dalam %):\", keuntungan_persen_pertama)\n",
        "print(\"Keuntungan kedua (dalam Rp):\", keuntungan_nominal_terakhir)\n",
        "print(\"Keuntungan kedua (dalam %):\", keuntungan_persen_terakhir)\n"
      ]
    },
    {
      "cell_type": "code",
      "source": [],
      "metadata": {
        "id": "bmP64VAvV17m"
      },
      "execution_count": null,
      "outputs": []
    }
  ]
}