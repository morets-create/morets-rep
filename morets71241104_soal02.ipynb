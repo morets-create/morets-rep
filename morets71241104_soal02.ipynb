{
  "nbformat": 4,
  "nbformat_minor": 0,
  "metadata": {
    "colab": {
      "provenance": []
    },
    "kernelspec": {
      "name": "python3",
      "display_name": "Python 3"
    },
    "language_info": {
      "name": "python"
    }
  },
  "cells": [
    {
      "cell_type": "code",
      "execution_count": 21,
      "metadata": {
        "colab": {
          "base_uri": "https://localhost:8080/"
        },
        "id": "ap4AxPS7RVOQ",
        "outputId": "1998056c-e309-4f53-e70c-4abbb87566aa"
      },
      "outputs": [
        {
          "output_type": "stream",
          "name": "stdout",
          "text": [
            "Keuntungan pertama (dalam Rp): 875000\n",
            "Keuntungan pertama (dalam %): 5\n",
            "Keuntungan kedua (dalam Rp): 2075000\n",
            "Keuntungan kedua (dalam %): 7\n"
          ]
        }
      ],
      "source": [
        "harga_beli_pertama = 650000\n",
        "gram_emas_pertama = 25\n",
        "gram_emas_kedua = 15\n",
        "Harga_jual_emas_pertama = 685000\n",
        "Harga_jual_emas_kedua = 715000\n",
        "biaya_awal = harga_beli_pertama * gram_emas_pertama\n",
        "\n",
        "keuntungan_nominal_pertama = (Harga_jual_emas_pertama - harga_beli_pertama) * gram_emas_pertama\n",
        "keuntungan_persen_pertama = int((keuntungan_nominal_pertama / biaya_awal) * 100)\n",
        "\n",
        "biaya_pertama_dan_kedua = biaya_awal + (Harga_jual_emas_pertama * gram_emas_kedua)\n",
        "\n",
        "nilai_total_emas_terakhir = Harga_jual_emas_kedua * (gram_emas_pertama + gram_emas_kedua)\n",
        "keuntungan_nominal_terakhir = nilai_total_emas_terakhir - biaya_pertama_dan_kedua\n",
        "keuntungan_persen_terakhir = int((keuntungan_nominal_terakhir / biaya_pertama_dan_kedua) * 100)\n",
        "\n",
        "print(\"Keuntungan pertama (dalam Rp):\", keuntungan_nominal_pertama)\n",
        "print(\"Keuntungan pertama (dalam %):\", keuntungan_persen_pertama)\n",
        "print(\"Keuntungan kedua (dalam Rp):\", keuntungan_nominal_terakhir)\n",
        "print(\"Keuntungan kedua (dalam %):\", keuntungan_persen_terakhir)"
      ]
    },
    {
      "cell_type": "code",
      "source": [],
      "metadata": {
        "id": "bmP64VAvV17m"
      },
      "execution_count": null,
      "outputs": []
    }
  ]
}