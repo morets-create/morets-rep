{
  "nbformat": 4,
  "nbformat_minor": 0,
  "metadata": {
    "colab": {
      "provenance": []
    },
    "kernelspec": {
      "name": "python3",
      "display_name": "Python 3"
    },
    "language_info": {
      "name": "python"
    }
  },
  "cells": [
    {
      "cell_type": "code",
      "execution_count": 3,
      "metadata": {
        "colab": {
          "base_uri": "https://localhost:8080/"
        },
        "id": "4jRzPKCSYO1Z",
        "outputId": "e2c9e9a0-1984-48f1-f70e-b09623f79546"
      },
      "outputs": [
        {
          "output_type": "stream",
          "name": "stdout",
          "text": [
            "Minimal waktu untuk mencapai 400 juta: 7.27 tahun\n"
          ]
        }
      ],
      "source": [
        "import math\n",
        "\n",
        "P = 200000000\n",
        "A = 400000000\n",
        "r = 0.10\n",
        "\n",
        "t = math.log(A / P) / math.log(1 + r)\n",
        "\n",
        "print(\"Minimal waktu untuk mencapai 400 juta:\", round(t, 2), \"tahun\")\n"
      ]
    }
  ]
}
